import numpy as np
import pandas as pd

# Load dataset
emails = pd.read_csv('emails.csv')

# Convert 'spam' column to integer (handling possible non-numeric values)
emails['spam'] = pd.to_numeric(emails['spam'], errors='coerce').fillna(0).astype(int)

# Preprocessing function
def process_email(text):
    if isinstance(text, str):  # Ensure text is valid
        text = text.lower()
        return list(set(text.split()))
    return []  # Return empty list if NaN or invalid data

# Apply preprocessing
emails['words'] = emails['text'].apply(process_email)

# Count emails
num_emails = len(emails)
num_spam = sum(emails['spam'])

print("Number of emails:", num_emails)
print("Number of spam emails:", num_spam)
print("Probability of spam:", num_spam / num_emails if num_emails > 0 else 0)
print()

# Model storage
model = {}

# Training process
for index, email in emails.iterrows():
    for word in email['words']:
        if word not in model:
            model[word] = {'spam': 1, 'ham': 1}
        if email['spam']:  
            model[word]['spam'] += 1
        else:
            model[word]['ham'] += 1

# Bayesian Prediction
def predict_bayes(word):
    word = word.lower()
    if word not in model:
        return 0.5  # Neutral probability if word not found
    num_spam_with_word = model[word]['spam']
    num_ham_with_word = model[word]['ham']
    return num_spam_with_word / (num_spam_with_word + num_ham_with_word)

print("Prediction using Bayes for word 'sale':", predict_bayes("sale"))
print("Prediction using Bayes for word 'lottery':", predict_bayes("lottery"))
print()

# Naive Bayes Prediction
def predict_naive_bayes(email):
    total = len(emails)
    num_spam = sum(emails['spam'])
    num_ham = total - num_spam
    email = email.lower()
    words = set(email.split())
    spams = [1.0]
    hams = [1.0]
    for word in words:
        if word in model:
            spams.append(model[word]['spam'] / num_spam * total)
            hams.append(model[word]['ham'] / num_ham * total)
    prod_spams = int(np.prod(spams) * num_spam)
    prod_hams = int(np.prod(hams) * num_ham)
    return prod_spams / (prod_spams + prod_hams) if (prod_spams + prod_hams) != 0 else 0.5

print("Prediction using NaiveBayes for 'lottery sale':", predict_naive_bayes("lottery sale"))
print("Prediction using NaiveBayes for 'asdfgh':", predict_naive_bayes("asdfgh"))
print("Prediction using NaiveBayes for 'Hi mom how are you':", predict_naive_bayes("Hi mom how are you"))
