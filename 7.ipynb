{
 "cells": [
  {
   "cell_type": "code",
   "execution_count": 27,
   "id": "079a3f89-08a6-4596-95b1-0b9a00421a79",
   "metadata": {},
   "outputs": [
    {
     "name": "stdout",
     "output_type": "stream",
     "text": [
      "[[ 4.44870466e-01  9.55004561e-03 -1.21991503e-01  7.79144696e-01\n",
      "  -7.68990809e-08 -3.29948505e-03 -4.19131153e-01 -4.34103468e-01]]\n",
      "[[0.72563462]\n",
      " [1.76650223]\n",
      " [2.70545812]\n",
      " ...\n",
      " [1.25803135]\n",
      " [1.66673014]\n",
      " [2.25826279]]\n",
      "0.5369686543372462\n",
      "0.5369686543372462\n"
     ]
    }
   ],
   "source": [
    "import sys\n",
    "import subprocess\n",
    "subprocess.check_call([sys.executable,'-m','pip','install','scikit-learn'])\n",
    "import pandas as pd\n",
    "import numpy as np\n",
    "import sklearn\n",
    "from sklearn import linear_model\n",
    "from sklearn.model_selection import train_test_split\n",
    "\n",
    "#from sklearn.datasets import load_boston\n",
    "from sklearn.datasets import fetch_california_housing\n",
    "#boston = load_boston()\n",
    "boston = fetch_california_housing()\n",
    "#print(boston)\n",
    "df_x = pd.DataFrame(boston.data,columns = boston.feature_names)\n",
    "df_y = pd.DataFrame(boston.target)\n",
    "df_x.describe()\n",
    "reg = linear_model.LinearRegression()\n",
    "x_train,x_test, y_train, y_test = train_test_split(df_x , df_y,test_size=0.33, random_state =42)\n",
    "reg.fit(x_train,y_train)\n",
    "print(reg.coef_)\n",
    "y_pred = reg.predict(x_test)\n",
    "print(y_pred)\n",
    "y_pred[2]\n",
    "y_test[0]\n",
    "print(np.mean((y_pred-y_test)**2))\n",
    "from sklearn.metrics import mean_squared_error\n",
    "print(mean_squared_error(y_test,y_pred))\n",
    "\n"
   ]
  }
 ],
 "metadata": {
  "kernelspec": {
   "display_name": "Python [conda env:base] *",
   "language": "python",
   "name": "conda-base-py"
  },
  "language_info": {
   "codemirror_mode": {
    "name": "ipython",
    "version": 3
   },
   "file_extension": ".py",
   "mimetype": "text/x-python",
   "name": "python",
   "nbconvert_exporter": "python",
   "pygments_lexer": "ipython3",
   "version": "3.12.7"
  }
 },
 "nbformat": 4,
 "nbformat_minor": 5
}
