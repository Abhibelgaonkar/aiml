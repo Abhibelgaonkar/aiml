{
 "cells": [
  {
   "cell_type": "code",
   "execution_count": 24,
   "id": "44051865-98ce-48e5-b799-ba0d1e232d78",
   "metadata": {},
   "outputs": [
    {
     "name": "stdout",
     "output_type": "stream",
     "text": [
      "0.0 0.2\n",
      "0.2 0.2\n",
      "------->\n",
      "------->\n",
      "Final Output of OR ::\n",
      "\n",
      "Weights: w1=0.2 and w2=0.2 >>>> [0, 1, 1, 1]\n"
     ]
    }
   ],
   "source": [
    "def OR():\n",
    "    w1=0;w2=0;a=0.2;t=0\n",
    "    X=[[0,0],[0,1],[1,0],[1,1]]\n",
    "    Y=[0,1,1,1]\n",
    "    while(True):\n",
    "        Out=[]\n",
    "        count = 0\n",
    "        for i in X:\n",
    "            step=(w1*i[0]+w2*i[1])\n",
    "            if step<=t:\n",
    "                O=0\n",
    "                if O==Y[count]:\n",
    "                    Out.append(O)\n",
    "                    count+=1\n",
    "                else:\n",
    "                    w1=w1+(a*i[0]*1)\n",
    "                    w2=w2+(a*i[1]*1)\n",
    "                    print(w1,w2)\n",
    "            else:\n",
    "                O=1\n",
    "                if O==Y[count]:\n",
    "                    Out.append(O)\n",
    "                    count+=1\n",
    "                else:\n",
    "                    w1 = w1 + (a * i[0] * 0)\n",
    "                    w2 = w2 + (a * i[1] * 0)\n",
    "                    print(w1,w2)\n",
    "        print(\"------->\")\n",
    "        if Out[0:]==Y[0:]:\n",
    "            print(\"Final Output of OR ::\\n\")\n",
    "            print(\"Weights: w1={} and w2={} >>>> {}\".format(w1,w2,Out))\n",
    "            break\n",
    "OR()\n"
   ]
  },
  {
   "cell_type": "code",
   "execution_count": 26,
   "id": "31d88445-00de-406e-a9ab-f737f9cac10a",
   "metadata": {},
   "outputs": [
    {
     "name": "stdout",
     "output_type": "stream",
     "text": [
      "0 0 [0]\n",
      "0 0 [0, 0]\n",
      "0 0 [0, 0, 0]\n",
      "Weights changed to..\n",
      "w1=0.2 w2=0.2\n",
      "------->\n",
      "0.2 0.2 [0]\n",
      "0.2 0.2 [0, 0]\n",
      "0.2 0.2 [0, 0, 0]\n",
      "Weights changed to..\n",
      "w1=0.4 w2=0.4\n",
      "------->\n",
      "0.4 0.4 [0]\n",
      "0.4 0.4 [0, 0]\n",
      "0.4 0.4 [0, 0, 0]\n",
      "Weights changed to..\n",
      "w1=0.6 w2=0.6\n",
      "------->\n",
      "0.6000000000000001 0.6000000000000001 [0]\n",
      "0.6000000000000001 0.6000000000000001 [0, 0]\n",
      "0.6000000000000001 0.6000000000000001 [0, 0, 0]\n",
      "0.6000000000000001 0.6000000000000001 [0, 0, 0, 1]\n",
      "\n",
      "Final Output of AND::\n",
      "\n",
      "Weights: w1=0.6 and w2=0.6 >>>> [0, 0, 0, 1]\n"
     ]
    }
   ],
   "source": [
    "#AND\n",
    "def AND():\n",
    "    w1=0;w2=0;a=0.2;t=1\n",
    "    X=[[0,0],[0,1],[1,0],[1,1]]\n",
    "    Y=[0,0,0,1]\n",
    "    while(True):\n",
    "        Out=[]\n",
    "        count = 0\n",
    "        for i in X:\n",
    "            step=(w1*i[0]+w2*i[1])\n",
    "            if step<=t:\n",
    "                O=0\n",
    "                if O==Y[count]:\n",
    "                    Out.append(O)\n",
    "                    count+=1\n",
    "                    print(w1,w2,Out)\n",
    "                else:\n",
    "                    print('Weights changed to..')\n",
    "                    w1=w1+(a*i[0]*1)\n",
    "                    w2=w2+(a*i[1]*1)\n",
    "                    print(\"w1={} w2={}\".format(round(w1,2),round(w2,2)))\n",
    "                    print(\"------->\")\n",
    "            else:\n",
    "                O=1\n",
    "                if O==Y[count]:\n",
    "                    Out.append(O)\n",
    "                    count+=1\n",
    "                    print(w1,w2,Out)\n",
    "                else:\n",
    "                    print(\"Weights Changed to..\")\n",
    "                    w1 = w1 + (a * i[0] * 0)\n",
    "                    w2 = w2 + (a * i[1] * 0)\n",
    "                    print(\"w1={} w2={}\".format(round(w1,2),round(w2,2)))\n",
    "                    print(\"------->\")\n",
    "        if Out[0:]==Y[0:]:\n",
    "            print(\"\\nFinal Output of AND::\\n\")\n",
    "            print(\"Weights: w1={} and w2={} >>>> {}\".format(round(w1,2),round(w2,2),Out))\n",
    "            break\n",
    "AND()"
   ]
  },
  {
   "cell_type": "code",
   "execution_count": 28,
   "id": "d3b29360-d869-4d87-af82-8d8be58a1007",
   "metadata": {},
   "outputs": [
    {
     "name": "stdout",
     "output_type": "stream",
     "text": [
      "\n",
      "Final Output of NOT ::\n",
      "\n",
      "NOT Gate 0-->1\n",
      "NOT Gate 1-->0\n"
     ]
    }
   ],
   "source": [
    "#NOT\n",
    "def NOT():\n",
    "    X=[0,1]\n",
    "    Y=[1,0]\n",
    "    weight=-1\n",
    "    bias=1;Out=[]\n",
    "    for i in X:\n",
    "        j=weight*i+bias\n",
    "        Out.append(j)\n",
    "    print(\"\\nFinal Output of NOT ::\\n\")\n",
    "\n",
    "    for i in X:\n",
    "        print(\"NOT Gate {}-->{}\".format(X[i],Out[i]))\n",
    "NOT()"
   ]
  },
  {
   "cell_type": "code",
   "execution_count": null,
   "id": "395e8b5c-101b-4818-b60d-f1a81646f742",
   "metadata": {},
   "outputs": [],
   "source": []
  }
 ],
 "metadata": {
  "kernelspec": {
   "display_name": "Python [conda env:base] *",
   "language": "python",
   "name": "conda-base-py"
  },
  "language_info": {
   "codemirror_mode": {
    "name": "ipython",
    "version": 3
   },
   "file_extension": ".py",
   "mimetype": "text/x-python",
   "name": "python",
   "nbconvert_exporter": "python",
   "pygments_lexer": "ipython3",
   "version": "3.12.7"
  }
 },
 "nbformat": 4,
 "nbformat_minor": 5
}
