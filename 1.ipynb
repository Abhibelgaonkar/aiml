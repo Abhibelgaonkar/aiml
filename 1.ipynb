{
 "cells": [
  {
   "cell_type": "code",
   "execution_count": 1,
   "id": "02429f63-f682-4ead-8070-2f413540fade",
   "metadata": {},
   "outputs": [
    {
     "name": "stdout",
     "output_type": "stream",
     "text": [
      "Start node:  A Goal node:  L\n",
      "\n",
      "DFID at level :  1\n",
      "Path Taken :  A \n",
      "DFID at level :  2\n",
      "Path Taken :  A B C D \n",
      "DFID at level :  3\n",
      "Path Taken :  A B E F C D G H \n",
      "DFID at level :  4\n",
      "Path Taken :  A B E I J F C D G K L \n",
      "Goal node found!\n"
     ]
    }
   ],
   "source": [
    "from collections import defaultdict\n",
    "\n",
    "graph = defaultdict(list)\n",
    "\n",
    "\n",
    "def addEdge(u, v):\n",
    "    graph[u].append(v)\n",
    "\n",
    "\n",
    "def dfs(start, goal, depth):\n",
    "    print(start, end=\" \")\n",
    "    if start == goal:\n",
    "        return True\n",
    "    if depth <= 0:\n",
    "        return False\n",
    "    for i in graph[start]:\n",
    "        if dfs(i, goal, depth - 1):\n",
    "            return True\n",
    "    return False\n",
    "\n",
    "\n",
    "def dfid(start, goal, maxDepth):\n",
    "    print(\"Start node: \", start, \"Goal node: \", goal)\n",
    "    for i in range(maxDepth):\n",
    "        print(\"\\nDFID at level : \", i + 1)\n",
    "        print(\"Path Taken : \", end=' ')\n",
    "        isPathFound = dfs(start, goal, i)\n",
    "    if isPathFound:\n",
    "        print(\"\\nGoal node found!\")\n",
    "        return\n",
    "    else:\n",
    "        print(\"\\nGoal node not found!\")\n",
    "\n",
    "goal = defaultdict(list)\n",
    "addEdge('A', 'B')\n",
    "addEdge('A', 'C')\n",
    "addEdge('A', 'D')\n",
    "addEdge('B', 'E')\n",
    "addEdge('B', 'F')\n",
    "addEdge('E', 'I')\n",
    "addEdge('E', 'J')\n",
    "addEdge('D', 'G')\n",
    "addEdge('D', 'H')\n",
    "addEdge('G', 'K')\n",
    "addEdge('G', 'L')\n",
    "dfid('A', 'L', 4)\n"
   ]
  },
  {
   "cell_type": "code",
   "execution_count": null,
   "id": "ed97b5e3-94d7-4c95-a8bf-7135bc8c0e73",
   "metadata": {},
   "outputs": [],
   "source": []
  }
 ],
 "metadata": {
  "kernelspec": {
   "display_name": "Python [conda env:base] *",
   "language": "python",
   "name": "conda-base-py"
  },
  "language_info": {
   "codemirror_mode": {
    "name": "ipython",
    "version": 3
   },
   "file_extension": ".py",
   "mimetype": "text/x-python",
   "name": "python",
   "nbconvert_exporter": "python",
   "pygments_lexer": "ipython3",
   "version": "3.12.7"
  }
 },
 "nbformat": 4,
 "nbformat_minor": 5
}
