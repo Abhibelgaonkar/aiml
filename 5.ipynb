{
 "cells": [
  {
   "cell_type": "code",
   "execution_count": 1,
   "id": "57dcd535-cffe-457d-babc-a6d9ba60ce41",
   "metadata": {},
   "outputs": [
    {
     "name": "stdout",
     "output_type": "stream",
     "text": [
      "Learning...\n",
      "dw1\tdw2\tdb\tw1\tw2\tb\n",
      "1\t1\t1\t1\t1\t1\n",
      "-1\t1\t-1\t0\t2\t0\n",
      "1\t-1\t-1\t1\t1\t-1\n",
      "1\t1\t-1\t2\t2\t-2\n",
      "Learning completed\n",
      "Output of AND gate using obtained w1,w2,bw:\n",
      "x1\tx2\ty\n",
      "1\t1\t1\n",
      "1\t-1\t-1\n",
      "-1\t1\t-1\n",
      "-1\t-1\t-1\n",
      "Final weights are: w1=2 w2=2\n"
     ]
    }
   ],
   "source": [
    "x1=[1,1]\n",
    "x2=[1,-1]\n",
    "x3=[-1,1]\n",
    "x4=[-1,-1]\n",
    "xilist=[x1,x2,x3,x4]\n",
    "y=[1,-1,-1,-1]\n",
    "w1=w2=bw=0\n",
    "b=1\n",
    "def heb_learn():\n",
    "    global w1,w2,bw\n",
    "    print(\"dw1\\tdw2\\tdb\\tw1\\tw2\\tb\")\n",
    "    i=0\n",
    "    for xi in xilist:\n",
    "        dw1=xi[0]*y[i]\n",
    "        dw2=xi[1]*y[i]\n",
    "        db=y[i]\n",
    "        w1=w1+dw1\n",
    "        w2=w2+dw2\n",
    "        bw+=db\n",
    "        print(dw1,dw2,db,w1,w2,bw,sep='\\t')\n",
    "        i+=1\n",
    "print(\"Learning...\")\n",
    "heb_learn()\n",
    "print(\"Learning completed\")\n",
    "print(\"Output of AND gate using obtained w1,w2,bw:\")\n",
    "print(\"x1\\tx2\\ty\")\n",
    "for xi in xilist:\n",
    "    print(xi[0],xi[1],1 if w1*xi[0]+w2*xi[1]+b*bw>0 else -1,sep='\\t')\n",
    "print(\"Final weights are: w1=\"+str(w1) +\" w2=\" +str(w2))\n",
    "\n"
   ]
  },
  {
   "cell_type": "code",
   "execution_count": null,
   "id": "071cc298-dc2f-4d0a-a7f4-f3166635403c",
   "metadata": {},
   "outputs": [],
   "source": []
  }
 ],
 "metadata": {
  "kernelspec": {
   "display_name": "Python [conda env:base] *",
   "language": "python",
   "name": "conda-base-py"
  },
  "language_info": {
   "codemirror_mode": {
    "name": "ipython",
    "version": 3
   },
   "file_extension": ".py",
   "mimetype": "text/x-python",
   "name": "python",
   "nbconvert_exporter": "python",
   "pygments_lexer": "ipython3",
   "version": "3.12.7"
  }
 },
 "nbformat": 4,
 "nbformat_minor": 5
}
