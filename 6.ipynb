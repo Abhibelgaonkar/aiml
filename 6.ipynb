{
 "cells": [
  {
   "cell_type": "code",
   "execution_count": 1,
   "id": "81d983e8-d975-4f7a-b4c8-1141416e4c5c",
   "metadata": {},
   "outputs": [
    {
     "name": "stdout",
     "output_type": "stream",
     "text": [
      "[['Sunny', 'Warm', 'Normal', 'Strong', 'Warm', 'Same', 'yes'], ['Sunny', 'Warm', 'High', 'Strong', 'Warm', 'Same', 'yes'], ['Rainy', 'Cold', 'High', 'Strong', 'Warm', 'Change', 'no'], ['Sunny', 'Warm', 'High', 'Strong', 'Cool', 'Change', 'yes']]\n",
      "\n",
      "The total number of training instances are :  4\n",
      "\n",
      "The initial hypothesis is : \n",
      "['0', '0', '0', '0', '0', '0']\n",
      "\n",
      "Instance  1 is ['Sunny', 'Warm', 'Normal', 'Strong', 'Warm', 'Same', 'yes']  and is Positive Instance\n",
      "The hypothesis for the training instance 1  is:  ['Sunny', 'Warm', 'Normal', 'Strong', 'Warm', 'Same'] \n",
      "\n",
      "\n",
      "Instance  2 is ['Sunny', 'Warm', 'High', 'Strong', 'Warm', 'Same', 'yes']  and is Positive Instance\n",
      "The hypothesis for the training instance 2  is:  ['Sunny', 'Warm', '?', 'Strong', 'Warm', 'Same'] \n",
      "\n",
      "\n",
      "Instance  3 is ['Rainy', 'Cold', 'High', 'Strong', 'Warm', 'Change', 'no']  and is Negative Instance Hence Ignored\n",
      "The hypothesis for the training instance 3  is:  ['Sunny', 'Warm', '?', 'Strong', 'Warm', 'Same'] \n",
      "\n",
      "\n",
      "Instance  4 is ['Sunny', 'Warm', 'High', 'Strong', 'Cool', 'Change', 'yes']  and is Positive Instance\n",
      "The hypothesis for the training instance 4  is:  ['Sunny', 'Warm', '?', 'Strong', '?', '?'] \n",
      "\n",
      "\n",
      "The Maximally specific hypothesis for the training instance is  ['Sunny', 'Warm', '?', 'Strong', '?', '?']\n"
     ]
    }
   ],
   "source": [
    "import csv\n",
    "a = []\n",
    "with open('enjoysport.csv', 'r') as csvfile:\n",
    "    next(csvfile)\n",
    "    for row in csv.reader(csvfile):\n",
    "        a.append(row)\n",
    "    print(a)\n",
    "\n",
    "print(\"\\nThe total number of training instances are : \",len(a))\n",
    "\n",
    "num_attribute = len(a[0])-1\n",
    "\n",
    "print(\"\\nThe initial hypothesis is : \")\n",
    "hypothesis = ['0']*num_attribute\n",
    "print(hypothesis)\n",
    "\n",
    "for i in range(0, len(a)):\n",
    "    if a[i][num_attribute] == 'yes':\n",
    "        print (\"\\nInstance \", i+1, \"is\", a[i], \" and is Positive Instance\")\n",
    "        for j in range(0, num_attribute):\n",
    "            if hypothesis[j] == '0' or hypothesis[j] == a[i][j]:\n",
    "                hypothesis[j] = a[i][j]\n",
    "            else:\n",
    "                hypothesis[j] = '?'\n",
    "        print(\"The hypothesis for the training instance\", i+1, \" is: \" , hypothesis, \"\\n\")\n",
    "\n",
    "    if a[i][num_attribute] == 'no':\n",
    "        print (\"\\nInstance \", i+1, \"is\", a[i], \" and is Negative Instance Hence Ignored\")\n",
    "        print(\"The hypothesis for the training instance\", i+1, \" is: \" , hypothesis, \"\\n\")\n",
    "\n",
    "print(\"\\nThe Maximally specific hypothesis for the training instance is \", hypothesis)\n",
    "\n"
   ]
  },
  {
   "cell_type": "code",
   "execution_count": null,
   "id": "aa01bef6-3612-4cce-94c7-589a25f374dc",
   "metadata": {},
   "outputs": [],
   "source": []
  }
 ],
 "metadata": {
  "kernelspec": {
   "display_name": "Python [conda env:base] *",
   "language": "python",
   "name": "conda-base-py"
  },
  "language_info": {
   "codemirror_mode": {
    "name": "ipython",
    "version": 3
   },
   "file_extension": ".py",
   "mimetype": "text/x-python",
   "name": "python",
   "nbconvert_exporter": "python",
   "pygments_lexer": "ipython3",
   "version": "3.12.7"
  }
 },
 "nbformat": 4,
 "nbformat_minor": 5
}
